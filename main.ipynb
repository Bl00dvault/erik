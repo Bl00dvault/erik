{
 "cells": [
  {
   "attachments": {},
   "cell_type": "markdown",
   "metadata": {},
   "source": [
    "# Mission 1\n"
   ]
  },
  {
   "cell_type": "code",
   "execution_count": 2,
   "metadata": {},
   "outputs": [
    {
     "data": {
      "application/vnd.jupyter.widget-view+json": {
       "model_id": "99fcb62f6cd0496f92b618340658d122",
       "version_major": 2,
       "version_minor": 0
      },
      "text/plain": [
       "interactive(children=(IntSlider(value=50, description='value'), Output()), _dom_classes=('widget-interact',))"
      ]
     },
     "metadata": {},
     "output_type": "display_data"
    },
    {
     "data": {
      "application/vnd.jupyter.widget-view+json": {
       "model_id": "bd1aa09ff8a1446d9b675caaf26499eb",
       "version_major": 2,
       "version_minor": 0
      },
      "text/plain": [
       "Output()"
      ]
     },
     "metadata": {},
     "output_type": "display_data"
    }
   ],
   "source": [
    "from ipywidgets import interact, widgets\n",
    "\n",
    "# Create a Markdown block with a default value\n",
    "markdown = widgets.Output()\n",
    "with markdown:\n",
    "    print(\"The result will appear here\")\n",
    "\n",
    "# Define a function to update the Markdown block\n",
    "def update_markdown(value):\n",
    "    markdown.clear_output()\n",
    "    with markdown:\n",
    "        print(f\"The value you entered was: {value}\")\n",
    "\n",
    "# Create a code block with an interactive widget\n",
    "@interact(value=widgets.IntSlider(min=0, max=100, step=1, value=50))\n",
    "def do_something(value):\n",
    "    update_markdown(value)\n",
    "\n",
    "# Display the Markdown block\n",
    "display(markdown)"
   ]
  }
 ],
 "metadata": {
  "kernelspec": {
   "display_name": "Python 3",
   "language": "python",
   "name": "python3"
  },
  "language_info": {
   "codemirror_mode": {
    "name": "ipython",
    "version": 3
   },
   "file_extension": ".py",
   "mimetype": "text/x-python",
   "name": "python",
   "nbconvert_exporter": "python",
   "pygments_lexer": "ipython3",
   "version": "3.10.2"
  },
  "orig_nbformat": 4,
  "vscode": {
   "interpreter": {
    "hash": "369f2c481f4da34e4445cda3fffd2e751bd1c4d706f27375911949ba6bb62e1c"
   }
  }
 },
 "nbformat": 4,
 "nbformat_minor": 2
}
